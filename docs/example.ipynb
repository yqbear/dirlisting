{
    "cells": [
        {
            "cell_type": "markdown",
            "metadata": {},
            "source": [
                "# Example usage\n",
                "\n",
                "To use `dirlisting` in a project:"
            ]
        },
        {
            "cell_type": "markdown",
            "metadata": {},
            "source": [
                "## Imports"
            ]
        },
        {
            "cell_type": "code",
            "execution_count": 9,
            "metadata": {},
            "outputs": [],
            "source": [
                "from dirlisting.dirlisting import Dirlisting"
            ]
        },
        {
            "cell_type": "markdown",
            "metadata": {},
            "source": [
                "## A directory listing from a string"
            ]
        },
        {
            "cell_type": "code",
            "execution_count": 10,
            "metadata": {},
            "outputs": [
                {
                    "name": "stdout",
                    "output_type": "stream",
                    "text": [
                        "topdir\n",
                        "├── subdir1\n",
                        "│   ├── file1.txt\n",
                        "│   └── file2.txt\n",
                        "└── subdir2\n",
                        "    ├── file3.txt\n",
                        "    └── file4.txt\n"
                    ]
                }
            ],
            "source": [
                "input = \"\"\"\n",
                "- topdir:\n",
                "  - subdir1:\n",
                "    - file1.txt\n",
                "    - file2.txt\n",
                "  - subdir2:\n",
                "    - file3.txt\n",
                "    - file4.txt\n",
                "\"\"\"\n",
                "\n",
                "Dirlisting(input).print()"
            ]
        },
        {
            "cell_type": "markdown",
            "metadata": {},
            "source": [
                "## A directory listing from a file\n",
                "\n",
                "The file has the same contents as the previous example."
            ]
        },
        {
            "cell_type": "code",
            "execution_count": 11,
            "metadata": {},
            "outputs": [
                {
                    "name": "stdout",
                    "output_type": "stream",
                    "text": [
                        "topdir\n",
                        "├── subdir1\n",
                        "│   ├── file1.txt\n",
                        "│   └── file2.txt\n",
                        "└── subdir2\n",
                        "    ├── file3.txt\n",
                        "    └── file4.txt\n"
                    ]
                }
            ],
            "source": [
                "with open(\"examples/input.yaml\", \"r\") as f:\n",
                "    listing = Dirlisting(f)\n",
                "listing.print()"
            ]
        },
        {
            "cell_type": "markdown",
            "metadata": {},
            "source": [
                "## A sorted directory listing\n",
                "\n",
                "The contents can easily be sorted by name."
            ]
        },
        {
            "cell_type": "code",
            "execution_count": 12,
            "metadata": {},
            "outputs": [
                {
                    "name": "stdout",
                    "output_type": "stream",
                    "text": [
                        "topdir\n",
                        "├── bdir\n",
                        "│   ├── afile.txt\n",
                        "│   └── bfile.txt\n",
                        "├── gfile.txt\n",
                        "└── kdir\n",
                        "    ├── cfile.txt\n",
                        "    └── mfile.txt\n"
                    ]
                }
            ],
            "source": [
                "input = \"\"\"\n",
                "- topdir:\n",
                "  - gfile.txt\n",
                "  - kdir:\n",
                "    - mfile.txt\n",
                "    - cfile.txt\n",
                "  - bdir:\n",
                "    - afile.txt\n",
                "    - bfile.txt\n",
                "\"\"\"\n",
                "\n",
                "Dirlisting(input).print(is_sort=True)"
            ]
        }
    ],
    "metadata": {
        "interpreter": {
            "hash": "c0bfea123ab2f63ebf4cba7bd20dd4b61bff44563146efc0617672a6bc69dbbd"
        },
        "kernelspec": {
            "display_name": "Python 3.10.0 ('dirlisting-sS1_-dh5-py3.10')",
            "language": "python",
            "name": "python3"
        },
        "language_info": {
            "codemirror_mode": {
                "name": "ipython",
                "version": 3
            },
            "file_extension": ".py",
            "mimetype": "text/x-python",
            "name": "python",
            "nbconvert_exporter": "python",
            "pygments_lexer": "ipython3",
            "version": "3.10.0"
        }
    },
    "nbformat": 4,
    "nbformat_minor": 4
}
