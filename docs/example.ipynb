{
    "cells": [
        {
            "cell_type": "markdown",
            "metadata": {},
            "source": [
                "# Example usage\n",
                "\n",
                "To use `dirlisting` in a project:"
            ]
        },
        {
            "cell_type": "markdown",
            "metadata": {},
            "source": [
                "## Imports"
            ]
        },
        {
            "cell_type": "code",
            "execution_count": 7,
            "metadata": {},
            "outputs": [],
            "source": [
                "from dirlisting.dirlisting import Dirlisting"
            ]
        },
        {
            "cell_type": "markdown",
            "metadata": {},
            "source": [
                "## A directory listing from a string"
            ]
        },
        {
            "cell_type": "code",
            "execution_count": 8,
            "metadata": {},
            "outputs": [
                {
                    "name": "stdout",
                    "output_type": "stream",
                    "text": [
                        "topdir\n",
                        "├── subdir1\n",
                        "│   ├── file1.txt\n",
                        "│   └── file2.txt\n",
                        "└── subdir2\n",
                        "    ├── file3.txt\n",
                        "    └── file4.txt\n"
                    ]
                }
            ],
            "source": [
                "input = \"\"\"\n",
                "- topdir:\n",
                "  - subdir1:\n",
                "    - file1.txt\n",
                "    - file2.txt\n",
                "  - subdir2:\n",
                "    - file3.txt\n",
                "    - file4.txt\n",
                "\"\"\"\n",
                "\n",
                "Dirlisting(input).print()"
            ]
        },
        {
            "cell_type": "markdown",
            "metadata": {},
            "source": [
                "## A directory listing from a file\n",
                "\n",
                "The file has the same contents as the previous example."
            ]
        },
        {
            "cell_type": "code",
            "execution_count": 9,
            "metadata": {},
            "outputs": [
                {
                    "name": "stdout",
                    "output_type": "stream",
                    "text": [
                        "topdir\n",
                        "├── subdir1\n",
                        "│   ├── file1.txt\n",
                        "│   └── file2.txt\n",
                        "└── subdir2\n",
                        "    ├── file3.txt\n",
                        "    └── file4.txt\n"
                    ]
                }
            ],
            "source": [
                "with open(\"examples/input.yaml\", \"r\") as f:\n",
                "    listing = Dirlisting(f)\n",
                "listing.print()"
            ]
        }
    ],
    "metadata": {
        "interpreter": {
            "hash": "365cdb9fad8842693aebcb31c22d8de662dac06688f01e7a456a84f012ae2871"
        },
        "kernelspec": {
            "display_name": "Python 3.9.12 ('dirlisting')",
            "language": "python",
            "name": "python3"
        },
        "language_info": {
            "codemirror_mode": {
                "name": "ipython",
                "version": 3
            },
            "file_extension": ".py",
            "mimetype": "text/x-python",
            "name": "python",
            "nbconvert_exporter": "python",
            "pygments_lexer": "ipython3",
            "version": "3.9.12"
        }
    },
    "nbformat": 4,
    "nbformat_minor": 4
}
