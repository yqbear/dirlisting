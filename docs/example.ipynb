{
    "cells": [
        {
            "cell_type": "markdown",
            "metadata": {},
            "source": [
                "# Example usage\n",
                "\n",
                "To use `dirlisting` in a project:"
            ]
        },
        {
            "cell_type": "code",
            "execution_count": 1,
            "metadata": {},
            "outputs": [
                {
                    "name": "stdout",
                    "output_type": "stream",
                    "text": [
                        "top\n",
                        "├── file1.txt\n",
                        "└── file2.txt\n"
                    ]
                }
            ],
            "source": [
                "from dirlisting.dirlisting import Dirlisting\n",
                "\n",
                "input = \"\"\"\n",
                "- top:\n",
                "  - file1.txt\n",
                "  - file2.txt\n",
                "\"\"\"\n",
                "\n",
                "Dirlisting(input).print()"
            ]
        }
    ],
    "metadata": {
        "interpreter": {
            "hash": "365cdb9fad8842693aebcb31c22d8de662dac06688f01e7a456a84f012ae2871"
        },
        "kernelspec": {
            "display_name": "Python 3.9.12 ('dirlisting')",
            "language": "python",
            "name": "python3"
        },
        "language_info": {
            "codemirror_mode": {
                "name": "ipython",
                "version": 3
            },
            "file_extension": ".py",
            "mimetype": "text/x-python",
            "name": "python",
            "nbconvert_exporter": "python",
            "pygments_lexer": "ipython3",
            "version": "3.9.12"
        }
    },
    "nbformat": 4,
    "nbformat_minor": 4
}
